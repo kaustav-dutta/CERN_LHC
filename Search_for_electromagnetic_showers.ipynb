{
 "cells": [
  {
   "cell_type": "code",
   "execution_count": 1,
   "metadata": {},
   "outputs": [
    {
     "name": "stdout",
     "output_type": "stream",
     "text": [
      "Populating the interactive namespace from numpy and matplotlib\n"
     ]
    }
   ],
   "source": [
    "import numpy as np\n",
    "import pandas as pd\n",
    "import seaborn as sns\n",
    "import scipy\n",
    "import tables as tb\n",
    "from mpl_toolkits.mplot3d import Axes3D\n",
    "from tqdm import tqdm\n",
    "from sklearn.neighbors import BallTree, KDTree, DistanceMetric\n",
    "import glob\n",
    "\n",
    "%pylab inline"
   ]
  },
  {
   "cell_type": "markdown",
   "metadata": {},
   "source": [
    "# Load Datasets"
   ]
  },
  {
   "cell_type": "code",
   "execution_count": null,
   "metadata": {},
   "outputs": [],
   "source": [
    "train = pd.read_hdf('data/open30.h5') # pick just a single brick\n",
    "test = pd.read_hdf('data/test.h5')"
   ]
  },
  {
   "cell_type": "code",
   "execution_count": null,
   "metadata": {},
   "outputs": [],
   "source": [
    "test = test.reset_index(drop=True)"
   ]
  },
  {
   "cell_type": "code",
   "execution_count": null,
   "metadata": {},
   "outputs": [],
   "source": [
    "test.head()"
   ]
  },
  {
   "cell_type": "code",
   "execution_count": null,
   "metadata": {},
   "outputs": [],
   "source": [
    "train.head()"
   ]
  },
  {
   "cell_type": "code",
   "execution_count": null,
   "metadata": {},
   "outputs": [],
   "source": [
    "CMAP = sns.diverging_palette(220, 20, s=99, as_cmap=True, n=2500)\n",
    "\n",
    "def plot3D(X, target, elev=0, azim=0, title=None, sub=111):\n",
    "    x = X[:, 0]\n",
    "    y = X[:, 1]\n",
    "    z = X[:, 2]\n",
    "    \n",
    "    fig = plt.figure(figsize=(12, 8))\n",
    "    ax = Axes3D(fig)\n",
    "    mappab = ax.scatter(x, y, z, c=target, cmap=CMAP)\n",
    "\n",
    "    if title is not None:\n",
    "        ax.set_title(title)\n",
    "    ax.set_xlabel('Component 1')\n",
    "    ax.set_ylabel('Component 2')\n",
    "    ax.set_zlabel('Component 3')\n",
    "\n",
    "# Этот инструмент позволяет менять точку зрения\n",
    "    ax.view_init(elev=elev, azim=azim)\n",
    "    fig.colorbar(mappable=mappab, label='Target variable')\n",
    "    plt.show()\n",
    "    \n",
    "feat_XY = ['TX', 'TY', 'X', 'Y']"
   ]
  },
  {
   "cell_type": "code",
   "execution_count": null,
   "metadata": {},
   "outputs": [],
   "source": [
    "first = train.loc[train.data_ind == 21, :]"
   ]
  },
  {
   "cell_type": "code",
   "execution_count": null,
   "metadata": {},
   "outputs": [],
   "source": [
    "plot3D(first.loc[first.signal==1, ['Z', 'X', 'Y']].values,\n",
    "       first.loc[first.signal==1].signal.values, elev=20, azim=60)"
   ]
  },
  {
   "cell_type": "code",
   "execution_count": null,
   "metadata": {},
   "outputs": [],
   "source": [
    "plot3D(first.loc[first.signal==1, ['Z', 'X', 'Y']].values,\n",
    "       first.loc[first.signal==1].signal.values, elev=45, azim=0)"
   ]
  },
  {
   "cell_type": "markdown",
   "metadata": {},
   "source": [
    "# Let's take a look at basetrack distribution along the axis"
   ]
  },
  {
   "cell_type": "code",
   "execution_count": null,
   "metadata": {},
   "outputs": [],
   "source": [
    "axis = 'X'\n",
    "\n",
    "fig = plt.figure(figsize = [20, 10])\n",
    "fig.add_subplot(221)\n",
    "plt.hist(first.loc[first.signal == 1, axis], bins=500, histtype='step')\n",
    "fig.add_subplot(222)\n",
    "plt.hist(first.loc[first.signal == 0, axis], bins=500, histtype='step')\n",
    "fig.add_subplot(223)\n",
    "values_X = plt.hist(first.loc[:, axis], bins=500, histtype='step')\n",
    "plt.show()"
   ]
  },
  {
   "cell_type": "code",
   "execution_count": null,
   "metadata": {},
   "outputs": [],
   "source": [
    "axis = 'Y'\n",
    "\n",
    "fig = plt.figure(figsize = [20, 10])\n",
    "fig.add_subplot(221)\n",
    "plt.hist(first.loc[first.signal == 1, axis], bins=500, histtype='step')\n",
    "fig.add_subplot(222)\n",
    "plt.hist(first.loc[first.signal == 0, axis], bins=500, histtype='step')\n",
    "fig.add_subplot(223)\n",
    "values_X = plt.hist(first.loc[:, axis], bins=500, histtype='step')\n",
    "plt.show()"
   ]
  },
  {
   "cell_type": "code",
   "execution_count": null,
   "metadata": {},
   "outputs": [],
   "source": [
    "axis = 'Z'\n",
    "\n",
    "fig = plt.figure(figsize = [20, 10])\n",
    "fig.add_subplot(221)\n",
    "plt.hist(first.loc[first.signal == 1, axis], bins=500, histtype='step')\n",
    "fig.add_subplot(222)\n",
    "plt.hist(first.loc[first.signal == 0, axis], bins=500, histtype='step')\n",
    "fig.add_subplot(223)\n",
    "values_X = plt.hist(first.loc[:, axis], bins=500, histtype='step')\n",
    "plt.show()"
   ]
  },
  {
   "cell_type": "markdown",
   "metadata": {},
   "source": [
    "# Let's group close tracks from neighbour plates into pairs"
   ]
  },
  {
   "cell_type": "code",
   "execution_count": null,
   "metadata": {},
   "outputs": [],
   "source": [
    "def add_neighbours(df, k, metric='minkowski'):\n",
    "    res = []\n",
    "    \n",
    "    for data_ind in tqdm(np.unique(df.data_ind)):\n",
    "        ind = df.loc[df.data_ind == data_ind].copy()\n",
    "        #как будет замечено, 1293 - это расстояние между слайсами по Z\n",
    "        ind[['TX', 'TY']] *= 1293\n",
    "        values = np.unique(ind.Z)\n",
    "        \n",
    "        for j in range(1, len(values)):\n",
    "            z, z_next = (ind.loc[ind.Z == values[j-1]].copy(),\n",
    "                         ind.loc[ind.Z == values[j]].copy())\n",
    "            \n",
    "            b_tree = BallTree(z_next[feat_XY], metric=metric)\n",
    "            d, i = b_tree.query(z[feat_XY], k=min(k, len(z_next)))\n",
    "            \n",
    "            for m in range(i.shape[1]):\n",
    "                data = z_next.iloc[i[:, m]]\n",
    "                z_copy = z.copy()\n",
    "                for col in feat_XY + ['Z']:\n",
    "                    z_copy[col + '_pair'] = data[col].values\n",
    "                res.append(z_copy)\n",
    "            \n",
    "        res.append(z_next)\n",
    "        \n",
    "    res = pd.concat(res)\n",
    "    for col in feat_XY + ['Z']:\n",
    "        res['d' + col] = res[col].values - res[col + '_pair'].values\n",
    "    return res\n",
    "\n",
    "def balance_train(df, k):\n",
    "    data = add_neighbours(df, k=k)\n",
    "    noise = data.event_id == -999\n",
    "    signal, not_signal = data.loc[np.logical_not(noise)], data.loc[noise]\n",
    "    noise_part = not_signal.sample(len(signal))\n",
    "    return pd.concat([signal, noise_part]).reset_index(drop=True)"
   ]
  },
  {
   "cell_type": "code",
   "execution_count": null,
   "metadata": {},
   "outputs": [],
   "source": [
    "train = []\n",
    "for file in glob.glob('data/open*.h5')[:5]: # just 5 bricks\n",
    "    train.append(balance_train(pd.read_hdf(file), k=3))\n",
    "train = pd.concat(train)"
   ]
  },
  {
   "cell_type": "code",
   "execution_count": null,
   "metadata": {},
   "outputs": [],
   "source": [
    "train.head()"
   ]
  },
  {
   "cell_type": "markdown",
   "metadata": {},
   "source": [
    "# Building a model"
   ]
  },
  {
   "cell_type": "code",
   "execution_count": null,
   "metadata": {},
   "outputs": [],
   "source": [
    "y_train = train.signal\n",
    "X_train = train.drop(['event_id', 'signal', 'data_ind'], axis=1)"
   ]
  },
  {
   "cell_type": "code",
   "execution_count": null,
   "metadata": {},
   "outputs": [],
   "source": [
    "# import os\n",
    "\n",
    "# mingw_path = 'C:\\\\Program Files\\\\mingw-w64\\\\x86_64-7.2.0-posix-seh-rt_v5-rev1\\\\mingw64\\\\bin'\n",
    "\n",
    "# os.environ['PATH'] = mingw_path + ';' + os.environ['PATH']\n",
    "\n",
    "import xgboost as xg\n",
    "from xgboost import XGBClassifier\n",
    "from sklearn.model_selection import StratifiedKFold, GridSearchCV"
   ]
  },
  {
   "cell_type": "code",
   "execution_count": null,
   "metadata": {},
   "outputs": [],
   "source": [
    "param_grid = {\n",
    "        'n_estimators':[10, 20], \n",
    "        'max_depth':[15],\n",
    "}\n",
    "\n",
    "class XGBClassifier_tmp(XGBClassifier):\n",
    "    def predict(self, X):\n",
    "        return XGBClassifier.predict_proba(self, X)[:, 1]\n",
    "\n",
    "clf = GridSearchCV(XGBClassifier_tmp(learning_rate=0.05, subsample=0.8,\n",
    "                                     colsample_bytree=0.8, n_jobs=20), \n",
    "                   param_grid=param_grid, n_jobs=3,\n",
    "                   scoring='roc_auc',\n",
    "                   cv=StratifiedKFold(3, shuffle=True, random_state=0),\n",
    "                   verbose=7)"
   ]
  },
  {
   "cell_type": "code",
   "execution_count": null,
   "metadata": {},
   "outputs": [],
   "source": [
    "clf.fit(X_train, y_train)"
   ]
  },
  {
   "cell_type": "markdown",
   "metadata": {},
   "source": [
    "# Prediction"
   ]
  },
  {
   "cell_type": "code",
   "execution_count": null,
   "metadata": {},
   "outputs": [],
   "source": [
    "prepared_test = add_neighbours(test, k=3)\n",
    "X_test = prepared_test.drop(['data_ind'], axis=1"
   ]
  },
  {
   "cell_type": "code",
   "execution_count": null,
   "metadata": {},
   "outputs": [],
   "source": [
    "xgb_class.fit(X_train, y_train)\n",
    "probas = xgb_class.predict(X_test)"
   ]
  },
  {
   "cell_type": "code",
   "execution_count": null,
   "metadata": {},
   "outputs": [],
   "source": [
    "df = pd.DataFrame({'id': prepared_test.index, 'signal': probas}).groupby('id')\n",
    "agg = df.aggregate(('mean')).loc[:, ['signal']]"
   ]
  },
  {
   "cell_type": "code",
   "execution_count": null,
   "metadata": {},
   "outputs": [],
   "source": [
    "agg.shape"
   ]
  },
  {
   "cell_type": "code",
   "execution_count": null,
   "metadata": {},
   "outputs": [],
   "source": [
    "agg.head()"
   ]
  }
 ],
 "metadata": {
  "kernelspec": {
   "display_name": "Python 3",
   "language": "python",
   "name": "python3"
  },
  "language_info": {
   "codemirror_mode": {
    "name": "ipython",
    "version": 3
   },
   "file_extension": ".py",
   "mimetype": "text/x-python",
   "name": "python",
   "nbconvert_exporter": "python",
   "pygments_lexer": "ipython3",
   "version": "3.7.4"
  }
 },
 "nbformat": 4,
 "nbformat_minor": 2
}
